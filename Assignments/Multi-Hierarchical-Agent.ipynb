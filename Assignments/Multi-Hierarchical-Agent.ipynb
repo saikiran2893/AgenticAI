{
 "cells": [
  {
   "cell_type": "code",
   "execution_count": 7,
   "id": "539d1349",
   "metadata": {},
   "outputs": [],
   "source": [
    "import ssl\n",
    "import urllib.request\n",
    "\n",
    "ssl_context = ssl._create_unverified_context()"
   ]
  },
  {
   "cell_type": "code",
   "execution_count": 87,
   "id": "9d685ea7",
   "metadata": {},
   "outputs": [],
   "source": [
    "from dotenv import load_dotenv\n",
    "import os\n",
    "from pathlib import Path\n",
    "\n",
    "from typing import Annotated, List, Optional, Literal,TypedDict\n",
    "\n",
    "## For creating tools\n",
    "\n",
    "from langchain_groq import ChatGroq\n",
    "from langchain_openai import ChatOpenAI\n",
    "from langchain_community.tools.tavily_search import TavilySearchResults\n",
    "from langchain_community.document_loaders import WebBaseLoader\n",
    "from langchain_core.tools import tool\n",
    "from langchain_core.language_models.chat_models import BaseChatModel\n",
    "\n",
    "\n",
    "## For creating Agents\n",
    "from langgraph.graph import StateGraph, MessagesState, START, END\n",
    "from langgraph.types import Command\n",
    "from langchain_core.messages import HumanMessage, trim_messages\n",
    "from langgraph.prebuilt import create_react_agent\n",
    "\n",
    "\n",
    "\n",
    "\n"
   ]
  },
  {
   "cell_type": "code",
   "execution_count": 31,
   "id": "a4f35698",
   "metadata": {},
   "outputs": [],
   "source": [
    "load_dotenv()\n",
    "WORKING_DIRECTORY = Path.cwd()"
   ]
  },
  {
   "cell_type": "markdown",
   "id": "e975e361",
   "metadata": {},
   "source": [
    "## LLM Model Initilization"
   ]
  },
  {
   "cell_type": "code",
   "execution_count": null,
   "id": "23d97a3e",
   "metadata": {},
   "outputs": [],
   "source": [
    "#llm=ChatGroq(model=\"deepseek-r1-distill-llama-70b\")\n",
    "#print(llm.invoke(\"What is the capital of France?\").content)"
   ]
  },
  {
   "cell_type": "code",
   "execution_count": 88,
   "id": "a449862f",
   "metadata": {},
   "outputs": [],
   "source": [
    "llm = ChatOpenAI(model=\"gpt-4o\")"
   ]
  },
  {
   "cell_type": "code",
   "execution_count": 89,
   "id": "f223acb9",
   "metadata": {},
   "outputs": [
    {
     "data": {
      "text/plain": [
       "AIMessage(content='The capital of France is Paris.', additional_kwargs={'refusal': None}, response_metadata={'token_usage': {'completion_tokens': 7, 'prompt_tokens': 12, 'total_tokens': 19, 'completion_tokens_details': {'accepted_prediction_tokens': 0, 'audio_tokens': 0, 'reasoning_tokens': 0, 'rejected_prediction_tokens': 0}, 'prompt_tokens_details': {'audio_tokens': 0, 'cached_tokens': 0}}, 'model_name': 'gpt-4o-2024-08-06', 'system_fingerprint': 'fp_07871e2ad8', 'id': 'chatcmpl-BpZzUfwItn1dMXvedTsI2xZZBf0aU', 'service_tier': 'default', 'finish_reason': 'stop', 'logprobs': None}, id='run--294d06ad-c1da-4b91-aa10-e81493439c67-0', usage_metadata={'input_tokens': 12, 'output_tokens': 7, 'total_tokens': 19, 'input_token_details': {'audio': 0, 'cache_read': 0}, 'output_token_details': {'audio': 0, 'reasoning': 0}})"
      ]
     },
     "execution_count": 89,
     "metadata": {},
     "output_type": "execute_result"
    }
   ],
   "source": [
    "llm.invoke('Capital of Frace?')"
   ]
  },
  {
   "cell_type": "markdown",
   "id": "4cdee217",
   "metadata": {},
   "source": [
    "## Tools Define\n",
    "\n",
    "1. SEARCH TOOL USING TAVILY FOR PHARMA AND FINANCE\n",
    "2. CREATE SUMMARY TOOL\n",
    "3. CREATE DOCUMENT TOOL"
   ]
  },
  {
   "cell_type": "code",
   "execution_count": 90,
   "id": "c03e4548",
   "metadata": {},
   "outputs": [],
   "source": [
    "# Search Tool\n",
    "from langchain_community.tools.tavily_search import TavilySearchResults\n",
    "TAVILY_API_KEY=os.getenv(\"TAVILY_API_KEY\")\n",
    "search_tool=TavilySearchResults(tavily_api_key=TAVILY_API_KEY,max_results=5)"
   ]
  },
  {
   "cell_type": "code",
   "execution_count": 91,
   "id": "fc0f111e",
   "metadata": {},
   "outputs": [],
   "source": [
    "@tool\n",
    "def scrape_webpages(urls: List[str]) -> str:\n",
    "    \"\"\"Use requests and bs4 to scrape the provided web pages for detailed information.\"\"\"\n",
    "    loader = WebBaseLoader(urls)\n",
    "    docs = loader.load()\n",
    "    return \"\\n\\n\".join(\n",
    "        [\n",
    "            f'<Document name=\"{doc.metadata.get(\"title\", \"\")}\">\\n{doc.page_content}\\n</Document>'\n",
    "            for doc in docs\n",
    "        ]\n",
    "    )"
   ]
  },
  {
   "cell_type": "code",
   "execution_count": 92,
   "id": "f432849c",
   "metadata": {},
   "outputs": [],
   "source": [
    "## Summary Tool\n",
    "@tool\n",
    "def create_summary(content: Annotated[str, \"Research content to summarize\"], file_name: Annotated[str, \"File path to save the summary\"],\n",
    ") -> Annotated[str, \"Path of the saved summary file\"]:\n",
    "    \"\"\"Create and save a summary from research content.\"\"\"\n",
    "    # Ensure the file has a .txt extension for summaries\n",
    "    if not file_name.endswith(('.txt', '.pdf','.doc')):\n",
    "        file_name = file_name.rsplit(\".\", 1)[0] + \".txt\" if \".\" in file_name else file_name + \".txt\"\n",
    "    \n",
    "    file_path = WORKING_DIRECTORY / file_name\n",
    "    with file_path.open(\"w\", encoding='utf-8') as file:\n",
    "        file.write(content)\n",
    "    return f\"Summary saved to {file_path}\""
   ]
  },
  {
   "cell_type": "code",
   "execution_count": 93,
   "id": "817020d8",
   "metadata": {},
   "outputs": [],
   "source": [
    "@tool\n",
    "def create_document(\n",
    "    content: Annotated[str, \"Content to be written into the document\"],\n",
    "    file_name: Annotated[str, \"File path to save the document\"],\n",
    ") -> Annotated[str, \"Path of the saved document file\"]:\n",
    "    \"\"\"Create and save a document from summary content as a Markdown file.\"\"\"\n",
    "    # Ensure the file has a .md extension for Markdown documents\n",
    "    if not file_name.endswith(\".md\"):\n",
    "        file_name = file_name.rsplit(\".\", 1)[0] + \".md\" if \".\" in file_name else file_name + \".md\"\n",
    "    \n",
    "    file_path = WORKING_DIRECTORY / file_name\n",
    "    with file_path.open(\"w\", encoding='utf-8') as file:\n",
    "        file.write(content)\n",
    "    return f\"Document saved to {file_path}\""
   ]
  },
  {
   "cell_type": "markdown",
   "id": "3e0e4704",
   "metadata": {},
   "source": [
    "## Create Workflow"
   ]
  },
  {
   "cell_type": "code",
   "execution_count": 94,
   "id": "8d0168da",
   "metadata": {},
   "outputs": [],
   "source": [
    "class State(MessagesState):\n",
    "    next: str"
   ]
  },
  {
   "cell_type": "code",
   "execution_count": 95,
   "id": "10cf244f",
   "metadata": {},
   "outputs": [],
   "source": [
    "def make_supervisor_node(llm: BaseChatModel, members: list[str]) -> str:\n",
    "    options = [\"FINISH\"] + members\n",
    "    system_prompt = (\n",
    "        \"You are a supervisor tasked with managing a conversation between the\"\n",
    "        f\" following workers: {members}. Given the following user request,\"\n",
    "        \" respond with the worker to act next. Each worker will perform a\"\n",
    "        \" task and respond with their results and status. When finished,\"\n",
    "        \" respond with FINISH.\"\n",
    "    )\n",
    "\n",
    "    class Router(TypedDict):\n",
    "        \"\"\"Worker to route to next. If no workers needed, route to FINISH.\"\"\"\n",
    "\n",
    "        next: Literal[*options]\n",
    "\n",
    "    def supervisor_node(state: State) -> Command[Literal[*members, \"__end__\"]]:\n",
    "        \"\"\"An LLM-based router.\"\"\"\n",
    "        messages = [\n",
    "            {\"role\": \"system\", \"content\": system_prompt},\n",
    "        ] + state[\"messages\"]\n",
    "        response = llm.with_structured_output(Router).invoke(messages)\n",
    "        goto = response[\"next\"]\n",
    "        if goto == \"FINISH\":\n",
    "            goto = END\n",
    "\n",
    "        return Command(goto=goto, update={\"next\": goto})\n",
    "\n",
    "    return supervisor_node"
   ]
  },
  {
   "cell_type": "markdown",
   "id": "5c8577b7",
   "metadata": {},
   "source": [
    "## Research Team"
   ]
  },
  {
   "cell_type": "code",
   "execution_count": 96,
   "id": "05ba9698",
   "metadata": {},
   "outputs": [],
   "source": [
    "## Sample State will be \n",
    "state={\"messages\": [\"What causes lung cancer?\"]}"
   ]
  },
  {
   "cell_type": "code",
   "execution_count": 97,
   "id": "d32942c2",
   "metadata": {},
   "outputs": [],
   "source": [
    "search_agent = create_react_agent(llm, tools=[search_tool])\n",
    "\n",
    "def search_node(state: State) -> Command[Literal[\"supervisor\"]]:\n",
    "    result = search_agent.invoke(state)\n",
    "    return Command(\n",
    "        update={\n",
    "            \"messages\": [\n",
    "                HumanMessage(content=result[\"messages\"][-1].content, name=\"search\")\n",
    "            ]\n",
    "        },\n",
    "        # We want our workers to ALWAYS \"report back\" to the supervisor when done\n",
    "        goto=\"supervisor\",\n",
    "    )\n",
    "\n",
    "web_scraper_agent = create_react_agent(llm, tools=[scrape_webpages])\n",
    "\n",
    "\n",
    "def web_scraper_node(state: State) -> Command[Literal[\"supervisor\"]]:\n",
    "    result = web_scraper_agent.invoke(state)\n",
    "    return Command(\n",
    "        update={\n",
    "            \"messages\": [\n",
    "                HumanMessage(content=result[\"messages\"][-1].content, name=\"web_scraper\")\n",
    "            ]\n",
    "        },\n",
    "        # We want our workers to ALWAYS \"report back\" to the supervisor when done\n",
    "        goto=\"supervisor\",\n",
    "    )\n"
   ]
  },
  {
   "cell_type": "code",
   "execution_count": 98,
   "id": "5b9fcaab",
   "metadata": {},
   "outputs": [],
   "source": [
    "research_supervisor_node = make_supervisor_node(llm, [\"search\", \"web_scraper\"])"
   ]
  },
  {
   "cell_type": "code",
   "execution_count": 99,
   "id": "2d601484",
   "metadata": {},
   "outputs": [],
   "source": [
    "# Build Research Team Graph\n",
    "research_builder = StateGraph(State)\n",
    "research_builder.add_node(\"supervisor\", research_supervisor_node)\n",
    "research_builder.add_node(\"search\", search_node)\n",
    "research_builder.add_node(\"web_scraper\", web_scraper_node)\n",
    "\n",
    "research_builder.add_edge(START, \"supervisor\")\n",
    "research_graph = research_builder.compile()"
   ]
  },
  {
   "cell_type": "code",
   "execution_count": 100,
   "id": "a1d97edf",
   "metadata": {},
   "outputs": [
    {
     "data": {
      "image/png": "[encoded data removed]",
      "text/plain": [
       "<IPython.core.display.Image object>"
      ]
     },
     "metadata": {},
     "output_type": "display_data"
    }
   ],
   "source": [
    "from IPython.display import Image, display\n",
    "\n",
    "display(Image(research_graph.get_graph().draw_mermaid_png()))"
   ]
  },
  {
   "cell_type": "markdown",
   "id": "751ea080",
   "metadata": {},
   "source": [
    "## Report Team"
   ]
  },
  {
   "cell_type": "code",
   "execution_count": 102,
   "id": "12239ef7",
   "metadata": {},
   "outputs": [],
   "source": [
    "doc_writer_agent = create_react_agent(\n",
    "    llm,\n",
    "    tools=[create_document],\n",
    "    prompt=(\n",
    "        \"You can write and edit documents based on note-taker's outlines. \"\n",
    "        \"Don't ask follow-up questions.\"\n",
    "    ),\n",
    ")\n",
    "\n",
    "def doc_writing_node(state: State) -> Command[Literal[\"supervisor\"]]:\n",
    "    result = doc_writer_agent.invoke(state)\n",
    "    return Command(\n",
    "        update={\n",
    "            \"messages\": [\n",
    "                HumanMessage(content=result[\"messages\"][-1].content, name=\"doc_writer\")\n",
    "            ]\n",
    "        },\n",
    "        # We want our workers to ALWAYS \"report back\" to the supervisor when done\n",
    "        goto=\"supervisor\",\n",
    "    )"
   ]
  },
  {
   "cell_type": "code",
   "execution_count": 103,
   "id": "45222a0d",
   "metadata": {},
   "outputs": [],
   "source": [
    "summary_agent = create_react_agent(\n",
    "    llm,\n",
    "    tools=[create_summary],\n",
    "    prompt=(\n",
    "        \"You can read documents and create Summary for the document writer. \"\n",
    "        \"Don't ask follow-up questions.\"\n",
    "    ),\n",
    ")\n",
    "\n",
    "\n",
    "def summary_node(state: State) -> Command[Literal[\"supervisor\"]]:\n",
    "    result = summary_agent.invoke(state)\n",
    "    return Command(\n",
    "        update={\n",
    "            \"messages\": [\n",
    "                HumanMessage(content=result[\"messages\"][-1].content, name=\"summary\")\n",
    "            ]\n",
    "        },\n",
    "        # We want our workers to ALWAYS \"report back\" to the supervisor when done\n",
    "        goto=\"supervisor\",\n",
    "    )"
   ]
  },
  {
   "cell_type": "code",
   "execution_count": 104,
   "id": "8ce9bf8c",
   "metadata": {},
   "outputs": [],
   "source": [
    "doc_writing_supervisor_node = make_supervisor_node(\n",
    "    llm, [\"doc_writer\", \"summary\"]\n",
    ")"
   ]
  },
  {
   "cell_type": "code",
   "execution_count": 105,
   "id": "a350e591",
   "metadata": {},
   "outputs": [],
   "source": [
    "# Create the graph here\n",
    "reporting = StateGraph(State)\n",
    "reporting.add_node(\"supervisor\", doc_writing_supervisor_node)\n",
    "reporting.add_node(\"doc_writer\", doc_writing_node)\n",
    "reporting.add_node(\"summary\", summary_node)\n",
    "\n",
    "\n",
    "reporting.add_edge(START, \"supervisor\")\n",
    "reporting_graph = reporting.compile()"
   ]
  },
  {
   "cell_type": "code",
   "execution_count": 106,
   "id": "e9a55d83",
   "metadata": {},
   "outputs": [
    {
     "data": {
      "image/png": "[encoded data removed]",
      "text/plain": [
       "<IPython.core.display.Image object>"
      ]
     },
     "metadata": {},
     "output_type": "display_data"
    }
   ],
   "source": [
    "from IPython.display import Image, display\n",
    "\n",
    "display(Image(reporting_graph.get_graph().draw_mermaid_png()))"
   ]
  },
  {
   "cell_type": "markdown",
   "id": "dece8d4c",
   "metadata": {},
   "source": [
    "## MAIN SUPERVISOR"
   ]
  },
  {
   "cell_type": "code",
   "execution_count": 107,
   "id": "62c50da7",
   "metadata": {},
   "outputs": [],
   "source": [
    "def call_research_team(state: State) -> Command[Literal[\"main_supervisor\"]]:\n",
    "    \"\"\"Call the research team and return results to main supervisor.\"\"\"\n",
    "    response = research_graph.invoke({\"messages\": state[\"messages\"]})\n",
    "    return Command(\n",
    "        update={\n",
    "            \"messages\": [\n",
    "                HumanMessage(\n",
    "                    content=response[\"messages\"][-1].content, \n",
    "                    name=\"research_team\"\n",
    "                )\n",
    "            ]\n",
    "        },\n",
    "        goto=\"main_supervisor\",\n",
    "    )"
   ]
  },
  {
   "cell_type": "code",
   "execution_count": 109,
   "id": "22cd7f7b",
   "metadata": {},
   "outputs": [],
   "source": [
    "def call_reporting_team(state: State) -> Command[Literal[\"main_supervisor\"]]:\n",
    "    \"\"\"Call the Reporting team and return results to main supervisor.\"\"\"\n",
    "    response = reporting_graph.invoke({\"messages\": state[\"messages\"]})\n",
    "    return Command(\n",
    "        update={\n",
    "            \"messages\": [\n",
    "                HumanMessage(\n",
    "                    content=response[\"messages\"][-1].content, \n",
    "                    name=\"generator_team\"\n",
    "                )\n",
    "            ]\n",
    "        },\n",
    "        goto=\"main_supervisor\",\n",
    "    )"
   ]
  },
  {
   "cell_type": "code",
   "execution_count": 110,
   "id": "cc2c18fa",
   "metadata": {},
   "outputs": [],
   "source": [
    "main_supervisor_node = make_supervisor_node(llm, [\"research_team\", \"generator_team\"])"
   ]
  },
  {
   "cell_type": "code",
   "execution_count": 111,
   "id": "3643143a",
   "metadata": {},
   "outputs": [],
   "source": [
    "main_builder = StateGraph(State)\n",
    "main_builder.add_node(\"main_supervisor\", main_supervisor_node)\n",
    "main_builder.add_node(\"research_team\", call_research_team)\n",
    "main_builder.add_node(\"generator_team\", call_reporting_team)\n",
    "main_builder.add_edge(START, \"main_supervisor\")\n",
    "main_graph = main_builder.compile()"
   ]
  },
  {
   "cell_type": "code",
   "execution_count": 112,
   "id": "e6b870b9",
   "metadata": {},
   "outputs": [
    {
     "data": {
      "image/png": "[encoded data removed]",
      "text/plain": [
       "<langgraph.graph.state.CompiledStateGraph object at 0x11af41580>"
      ]
     },
     "execution_count": 112,
     "metadata": {},
     "output_type": "execute_result"
    }
   ],
   "source": [
    "main_builder.compile()"
   ]
  },
  {
   "cell_type": "code",
   "execution_count": 116,
   "id": "b16d8e36",
   "metadata": {},
   "outputs": [
    {
     "name": "stdout",
     "output_type": "stream",
     "text": [
      "{'main_supervisor': {'next': 'research_team'}}\n",
      "---\n",
      "{'research_team': {'messages': [HumanMessage(content=\"Recent investments in Tamil Nadu include several significant developments:\\n\\n1. **Saint-Gobain Investment**: Saint-Gobain announced a substantial investment in Tamil Nadu on October 6, 2023. This involves a series of green and brownfield investments in various manufacturing sectors, increasing their total investment in the state to over INR 8000 Crores. The CEO, Benoit Bazin, committed these investments as part of a meeting with the Chief Minister, with a focus on contributing to the state's vision of becoming a 'One Trillion Dollar Economy' and achieving carbon neutrality by 2050. [Source](https://in.saint-gobain-glass.com/press-releases/saint-gobain-announces-significant-investment-tamil-nadu)\\n\\n2. **Tamil Nadu Cabinet Approved Projects**: On October 31, 2023, the Tamil Nadu cabinet approved structured packages for eight investment projects totaling Rs 7,000 crore across various industries. [Source](https://www.manufacturingtodayindia.com/tamil-nadu-cabinet-sanctions-large-scale-investment-projects-across-various-industries)\\n\\n3. **Overall State Investments**: In October 2023, Tamil Nadu attracted industrial investments amounting to 7,750 crores, the highest among Indian states for that period. [Source](https://x.com/IndianTechGuide/status/1719616960412209209)\\n\\nThese investments highlight Tamil Nadu's position as a leading destination for industrial investment and growth in India.\", additional_kwargs={}, response_metadata={}, name='research_team', id='caf737dc-5c03-48d0-8058-da9da8c5ee6d')]}}\n",
      "---\n",
      "{'main_supervisor': {'next': 'generator_team'}}\n",
      "---\n",
      "{'generator_team': {'messages': [HumanMessage(content='The summaries of recent investments in Tamil Nadu have been successfully saved in the following files:\\n\\n1. \"Tamil_Nadu_Recent_Investments_Summary.txt\"\\n2. \"Tamil_Nadu_Recent_Investments.md\"\\n\\nIf you need further assistance or additional information, feel free to ask!', additional_kwargs={}, response_metadata={}, name='generator_team', id='f657b32c-765c-4add-8f41-b4bcfd7eba68')]}}\n",
      "---\n",
      "{'main_supervisor': {'next': '__end__'}}\n",
      "---\n"
     ]
    }
   ],
   "source": [
    "for s in main_graph.stream(\n",
    "    {\n",
    "        \"messages\": [\n",
    "            (\"user\", \"Provide details about recent Investment happened in Tamil Nadu?\")\n",
    "        ],\n",
    "    },\n",
    "    {\"recursion_limit\": 150},\n",
    "):\n",
    "    print(s)\n",
    "    print(\"---\")"
   ]
  },
  {
   "cell_type": "code",
   "execution_count": 114,
   "id": "c8a7a522",
   "metadata": {},
   "outputs": [],
   "source": [
    "agent_output =main_graph.invoke({\"messages\": [(\"user\", \"What is the GDP of tamil Nadu in 2025?\")]}, subgraphs=True)"
   ]
  },
  {
   "cell_type": "code",
   "execution_count": 122,
   "id": "cd4a188c",
   "metadata": {},
   "outputs": [
    {
     "data": {
      "text/plain": [
       "'In 2025, the Gross State Domestic Product (GSDP) of Tamil Nadu is estimated to be approximately $419.74 billion (₹35.678 trillion).'"
      ]
     },
     "execution_count": 122,
     "metadata": {},
     "output_type": "execute_result"
    }
   ],
   "source": [
    "agent_output[1]['messages'][-1].content"
   ]
  }
 ],
 "metadata": {
  "kernelspec": {
   "display_name": "Python 3",
   "language": "python",
   "name": "python3"
  },
  "language_info": {
   "codemirror_mode": {
    "name": "ipython",
    "version": 3
   },
   "file_extension": ".py",
   "mimetype": "text/x-python",
   "name": "python",
   "nbconvert_exporter": "python",
   "pygments_lexer": "ipython3",
   "version": "3.12.6"
  }
 },
 "nbformat": 4,
 "nbformat_minor": 5
}
